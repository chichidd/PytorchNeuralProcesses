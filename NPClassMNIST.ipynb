{
 "cells": [
  {
   "cell_type": "code",
   "execution_count": 38,
   "metadata": {},
   "outputs": [],
   "source": [
    "import torch\n",
    "import torch.utils.data\n",
    "from torch import nn, optim\n",
    "from torch.nn import functional as F\n",
    "from torchvision import datasets, transforms\n",
    "from torchvision.utils import save_image\n",
    "from torch.distributions import Normal\n",
    "from torch.distributions.kl import kl_divergence\n",
    "import numpy as np\n",
    "import datetime\n",
    "import random\n",
    "\n",
    "from sklearn.metrics import confusion_matrix,accuracy_score\n",
    "import matplotlib.pyplot as plt"
   ]
  },
  {
   "cell_type": "code",
   "execution_count": 2,
   "metadata": {},
   "outputs": [],
   "source": [
    "batch_size=256\n",
    "epochs=500\n",
    "seed=1\n",
    "cuda=torch.cuda.is_available()\n",
    "log_interval=1\n",
    "r_dim=256\n",
    "z_dim=256\n",
    "result_path=\"results_np_class/\"\n",
    "file_name=result_path+\"loss\"\n",
    "\n",
    "\n",
    "device = torch.device(\"cuda\" if cuda else \"cpu\") #\n",
    "\n",
    "kwargs = {'num_workers': 1, 'pin_memory': True} if cuda else {}\n",
    "TrainData=datasets.MNIST('data', train=True, download=False,\n",
    "                   transform=transforms.ToTensor())\n",
    "train_loader = torch.utils.data.DataLoader(\n",
    "    TrainData,\n",
    "    batch_size=batch_size, shuffle=True, **kwargs)\n",
    "TestData=datasets.MNIST('data', train=False, transform=transforms.ToTensor())\n",
    "test_loader = torch.utils.data.DataLoader(\n",
    "    TestData,\n",
    "    batch_size=batch_size, shuffle=True, **kwargs)"
   ]
  },
  {
   "cell_type": "code",
   "execution_count": 3,
   "metadata": {},
   "outputs": [],
   "source": [
    "class NP(nn.Module):\n",
    "    def __init__(self, r_dim,z_dim):\n",
    "        super(NP, self).__init__()\n",
    "        self.r_dim = r_dim\n",
    "        self.z_dim = z_dim\n",
    "    \n",
    "        self.h_1 = nn.Linear(784+1, 400)\n",
    "        self.h_2 = nn.Linear(400, 400)\n",
    "        self.h_3 = nn.Linear(400, self.r_dim)\n",
    "\n",
    "        self.r_to_z_mean = nn.Linear(self.r_dim, self.z_dim)\n",
    "        self.r_to_z_logvar = nn.Linear(self.r_dim, self.z_dim)\n",
    "\n",
    "        self.g_1 = nn.Linear(self.z_dim + 784, 400)\n",
    "        self.g_2 = nn.Linear(400, 400)\n",
    "        self.g_3 = nn.Linear(400, 400)\n",
    "        self.g_4 = nn.Linear(400, 400)\n",
    "        self.g_y_proba = nn.Linear(400, 1)\n",
    "        self.g_y_var = nn.Linear(400, 1)\n",
    "        \n",
    "\n",
    "    def h(self, x_y):\n",
    "        x_y = F.relu(self.h_1(x_y))\n",
    "        x_y = F.relu(self.h_2(x_y))\n",
    "        x_y = F.relu(self.h_3(x_y))\n",
    "        return x_y\n",
    "\n",
    "    def aggregate(self, r):\n",
    "        return torch.mean(r, dim=0)\n",
    "\n",
    "    def g(self,z_sample, x_target):\n",
    "        z_et_x = torch.cat([z_sample, x_target], dim=1)\n",
    "        input = F.relu(self.g_1(z_et_x))\n",
    "        input = F.relu(self.g_2(input))\n",
    "        input = F.relu(self.g_3(input))\n",
    "        input = F.relu(self.g_4(input))\n",
    "        y_mu=F.sigmoid(self.g_y_proba(input))*10\n",
    "        y_sigma=sigma = 0.1 + 0.9 * F.softplus(self.g_y_var(input))\n",
    "        return y_mu,y_sigma\n",
    "    \n",
    "    \n",
    "    def xy_to_z_params(self, x, y):\n",
    "        x_y = torch.cat([x, y], dim=1)\n",
    "        r_i = self.h(x_y)\n",
    "        r = self.aggregate(r_i)\n",
    "        mu = self.r_to_z_mean(r)\n",
    "        logvar = self.r_to_z_logvar(r)\n",
    "        sigma=0.1+0.9*torch.sigmoid(logvar)\n",
    "        return mu, sigma\n",
    "\n",
    "    def forward(self, x_context, y_context, x_all=None, y_all=None):\n",
    "        \n",
    "        #produire z\n",
    "        z_context_mu,z_context_sigma = self.xy_to_z_params(x_context, y_context)  # (mu, logvar) of z\n",
    "        q_context = Normal(z_context_mu, z_context_sigma)\n",
    "        \n",
    "        if self.training:  # loss function will try to keep z_context close to z_all     \n",
    "            \n",
    "            z_target_mu,z_target_sigma = self.xy_to_z_params(x_context, y_context)\n",
    "            q_target = Normal(z_target_mu, z_target_sigma) \n",
    "            z_sample = q_target.rsample()\n",
    "            z_sample = z_sample.expand(x_all.size()[0],self.z_dim)\n",
    "            # Get parameters of output distribution\n",
    "            y_pred_mu, y_pred_sigma = self.g(z_sample,x_all)\n",
    "            #print(y_pred_mu.size())\n",
    "            p_y_pred = Normal(y_pred_mu, y_pred_sigma)\n",
    "\n",
    "            return p_y_pred, q_target, q_context\n",
    "        else:  # at test time we don't have the image so we use only the context\n",
    "            z_sample = q_context.rsample()\n",
    "            z_sample = z_sample.expand(x_all.size()[0],self.z_dim)\n",
    "            # Predict target points based on context\n",
    "            y_pred_mu, y_pred_sigma = self.g(z_sample,x_all)\n",
    "            p_y_pred = Normal(y_pred_mu, y_pred_sigma)\n",
    "            return p_y_pred,q_context,q_context\n",
    "\n",
    "def np_loss(p_y_pred, y_target, q_target, q_context):\n",
    "    #return logprob + KLD\n",
    "    log_likelihood = p_y_pred.log_prob(y_target.float())\n",
    "    \n",
    "    log_likelihood=log_likelihood.sum()#.mean(dim=0)\n",
    "    # KL has shape (batch_size, r_dim). Take mean over batch and sum over\n",
    "    # r_dim (since r_dim is dimension of normal distribution)\n",
    "    kl = kl_divergence(q_target, q_context).sum()\n",
    "\n",
    "    return -log_likelihood + kl\n",
    "    "
   ]
  },
  {
   "cell_type": "code",
   "execution_count": 4,
   "metadata": {},
   "outputs": [
    {
     "data": {
      "text/plain": [
       "NP(\n",
       "  (h_1): Linear(in_features=785, out_features=400, bias=True)\n",
       "  (h_2): Linear(in_features=400, out_features=400, bias=True)\n",
       "  (h_3): Linear(in_features=400, out_features=256, bias=True)\n",
       "  (r_to_z_mean): Linear(in_features=256, out_features=256, bias=True)\n",
       "  (r_to_z_logvar): Linear(in_features=256, out_features=256, bias=True)\n",
       "  (g_1): Linear(in_features=1040, out_features=400, bias=True)\n",
       "  (g_2): Linear(in_features=400, out_features=400, bias=True)\n",
       "  (g_3): Linear(in_features=400, out_features=400, bias=True)\n",
       "  (g_4): Linear(in_features=400, out_features=400, bias=True)\n",
       "  (g_y_proba): Linear(in_features=400, out_features=1, bias=True)\n",
       "  (g_y_var): Linear(in_features=400, out_features=1, bias=True)\n",
       ")"
      ]
     },
     "execution_count": 4,
     "metadata": {},
     "output_type": "execute_result"
    }
   ],
   "source": [
    "model=NP(r_dim,z_dim)\n",
    "model.load_state_dict(torch.load(result_path+\"model_200.pt\"))\n",
    "model.eval()"
   ]
  },
  {
   "cell_type": "code",
   "execution_count": null,
   "metadata": {},
   "outputs": [],
   "source": [
    "def train(epoch,learning_rate=1e-3):\n",
    "    model.train()\n",
    "    train_loss = 0\n",
    "    optimizer = optim.Adam(model.parameters(), lr=learning_rate/epoch)\n",
    "    for batch_idx, (x_all, y_all) in enumerate(train_loader):\n",
    "        x_all=x_all.to(device)\n",
    "        y_all=y_all.to(device).view(-1,1).float()\n",
    "        batch_size = y_all.shape[0]\n",
    "        x_all=x_all.view(batch_size,-1)\n",
    "        N = random.randint(1, batch_size)  # number of context points\n",
    "        x_context = x_all[:N,:]\n",
    "        y_context = y_all[:N,:]\n",
    "        optimizer.zero_grad()\n",
    "        p_y_pred, q_target, q_context = model(x_context, y_context, x_all, y_all)\n",
    "        loss = np_loss(p_y_pred, y_all, q_target, q_context)\n",
    "        loss.backward()   \n",
    "        train_loss += loss.item()    \n",
    "        optimizer.step()\n",
    "        if batch_idx % log_interval == 0:\n",
    "            print('Train Epoch: {} [{}/{} ({:.0f}%)]\\tLoss: {:.6f}\\n'.format(\n",
    "                epoch, batch_idx * len(y_all), len(train_loader.dataset),\n",
    "                       100. * batch_idx / len(train_loader),\n",
    "                       loss.item() / len(y_all)))\n",
    "    print('====> Epoch: {} Average loss: {:.4f}\\n'.format(\n",
    "        epoch, train_loss / len(train_loader.dataset)))\n",
    "    return train_loss / len(train_loader.dataset)"
   ]
  },
  {
   "cell_type": "code",
   "execution_count": null,
   "metadata": {
    "scrolled": true
   },
   "outputs": [],
   "source": [
    "num_epoch=200\n",
    "for i in range(1,num_epoch):\n",
    "    train(i)\n",
    "torch.save(model.state_dict(), result_path+\"model_{}_{}.pt\".format(num_epoch,datetime.datetime.now()))"
   ]
  },
  {
   "cell_type": "code",
   "execution_count": 5,
   "metadata": {},
   "outputs": [],
   "source": [
    "X_train_list=[]\n",
    "y_train_list=[]\n",
    "for X,y in TrainData:\n",
    "    X_train_list.append(X.view(-1,784))\n",
    "    y_train_list.append(y.view(1,1).float())\n",
    "X_train=torch.cat(X_train_list)\n",
    "y_train=torch.cat(y_train_list)"
   ]
  },
  {
   "cell_type": "code",
   "execution_count": 6,
   "metadata": {},
   "outputs": [],
   "source": [
    "X_test_list=[]\n",
    "y_test_list=[]\n",
    "for X,y in TestData:\n",
    "    X_test_list.append(X.view(-1,784))\n",
    "    y_test_list.append(y.view(1,1).float())\n",
    "X_test=torch.cat(X_test_list)\n",
    "y_test=torch.cat(y_test_list)"
   ]
  },
  {
   "cell_type": "code",
   "execution_count": 7,
   "metadata": {},
   "outputs": [
    {
     "name": "stderr",
     "output_type": "stream",
     "text": [
      "/home/h86479/anaconda3/lib/python3.7/site-packages/torch/nn/functional.py:1386: UserWarning: nn.functional.sigmoid is deprecated. Use torch.sigmoid instead.\n",
      "  warnings.warn(\"nn.functional.sigmoid is deprecated. Use torch.sigmoid instead.\")\n"
     ]
    }
   ],
   "source": [
    "p,_,__=model(X_train,y_train,X_test)\n",
    "pred=torch.round(p.mean)"
   ]
  },
  {
   "cell_type": "code",
   "execution_count": 8,
   "metadata": {},
   "outputs": [
    {
     "data": {
      "text/plain": [
       "array([[ 963,    0,    3,    0,    0,    3,    1,    0,    0,    1],\n",
       "       [   6, 1119,    4,    0,    0,    0,    3,    1,    1,    4],\n",
       "       [   1,    8,  986,    4,    2,    0,    3,    9,    3,    0],\n",
       "       [   1,    3,   15,  966,    4,    5,    1,    6,    3,    7],\n",
       "       [   1,    2,   12,   12,  950,   10,    4,    6,    7,    5],\n",
       "       [   3,    1,    5,    9,    4,  858,   16,    7,    6,    6],\n",
       "       [   4,    1,    3,    8,    6,   11,  927,   12,   11,    7],\n",
       "       [   0,    0,    3,    8,    4,    4,    1,  977,   24,   10],\n",
       "       [   1,    1,    0,    3,    9,    1,    2,    4,  915,   28],\n",
       "       [   0,    0,    1,    0,    3,    0,    0,    6,    4,  941]])"
      ]
     },
     "execution_count": 8,
     "metadata": {},
     "output_type": "execute_result"
    }
   ],
   "source": [
    "confusion_matrix(pred.long().numpy(),y_test.long().numpy())"
   ]
  },
  {
   "cell_type": "code",
   "execution_count": 9,
   "metadata": {},
   "outputs": [
    {
     "data": {
      "text/plain": [
       "0.9602"
      ]
     },
     "execution_count": 9,
     "metadata": {},
     "output_type": "execute_result"
    }
   ],
   "source": [
    "accuracy_score(pred.long().numpy(),y_test.long().numpy())"
   ]
  },
  {
   "cell_type": "code",
   "execution_count": 48,
   "metadata": {
    "scrolled": true
   },
   "outputs": [
    {
     "name": "stderr",
     "output_type": "stream",
     "text": [
      "/home/h86479/anaconda3/lib/python3.7/site-packages/torch/nn/functional.py:1386: UserWarning: nn.functional.sigmoid is deprecated. Use torch.sigmoid instead.\n",
      "  warnings.warn(\"nn.functional.sigmoid is deprecated. Use torch.sigmoid instead.\")\n",
      "/home/h86479/anaconda3/lib/python3.7/site-packages/ipykernel_launcher.py:4: UserWarning: Implicit dimension choice for softmax has been deprecated. Change the call to include dim=X as an argument.\n",
      "  after removing the cwd from sys.path.\n"
     ]
    },
    {
     "name": "stdout",
     "output_type": "stream",
     "text": [
      "33\n",
      "class: 4 ,predi: 3 ,mean: 3.2986350059509277 ,var: 0.013213139958679676\n",
      "149\n",
      "class: 2 ,predi: 4 ,mean: 4.127389430999756 ,var: 1.6065056324005127\n",
      "151\n",
      "class: 9 ,predi: 8 ,mean: 8.017189979553223 ,var: 0.6876488924026489\n",
      "233\n",
      "class: 8 ,predi: 6 ,mean: 5.799896717071533 ,var: 12.870138168334961\n",
      "241\n",
      "class: 9 ,predi: 8 ,mean: 8.104353904724121 ,var: 0.25801169872283936\n",
      "247\n",
      "class: 4 ,predi: 3 ,mean: 2.5488433837890625 ,var: 0.028072532266378403\n",
      "259\n",
      "class: 6 ,predi: 2 ,mean: 2.0696728229522705 ,var: 24.394588470458984\n",
      "321\n",
      "class: 2 ,predi: 7 ,mean: 7.021798610687256 ,var: 0.01315377838909626\n",
      "340\n",
      "class: 5 ,predi: 4 ,mean: 3.681771755218506 ,var: 0.15346980094909668\n",
      "359\n",
      "class: 9 ,predi: 8 ,mean: 8.150801658630371 ,var: 0.9888001084327698\n",
      "381\n",
      "class: 3 ,predi: 6 ,mean: 5.771666526794434 ,var: 3.993598699569702\n",
      "445\n",
      "class: 6 ,predi: 0 ,mean: 0.06233462691307068 ,var: 0.010551170445978642\n",
      "447\n",
      "class: 4 ,predi: 8 ,mean: 7.808404445648193 ,var: 1.8129602670669556\n",
      "448\n",
      "class: 9 ,predi: 8 ,mean: 8.206731796264648 ,var: 0.012064633890986443\n",
      "479\n",
      "class: 9 ,predi: 8 ,mean: 8.158076286315918 ,var: 1.639736533164978\n",
      "495\n",
      "class: 8 ,predi: 3 ,mean: 3.1760244369506836 ,var: 6.47864294052124\n",
      "543\n",
      "class: 8 ,predi: 7 ,mean: 6.836580276489258 ,var: 3.75502872467041\n",
      "551\n",
      "class: 7 ,predi: 6 ,mean: 6.076320648193359 ,var: 8.951848030090332\n",
      "578\n",
      "class: 3 ,predi: 4 ,mean: 3.739057779312134 ,var: 3.7225470542907715\n",
      "582\n",
      "class: 8 ,predi: 2 ,mean: 2.0850353240966797 ,var: 0.011213668622076511\n",
      "583\n",
      "class: 2 ,predi: 6 ,mean: 5.628659725189209 ,var: 3.2546560764312744\n",
      "613\n",
      "class: 2 ,predi: 5 ,mean: 4.580239772796631 ,var: 0.9094589948654175\n",
      "628\n",
      "class: 3 ,predi: 4 ,mean: 4.186706066131592 ,var: 0.5110740065574646\n",
      "691\n",
      "class: 8 ,predi: 7 ,mean: 7.171145439147949 ,var: 5.466865062713623\n",
      "717\n",
      "class: 0 ,predi: 4 ,mean: 3.627664089202881 ,var: 2.176734447479248\n",
      "740\n",
      "class: 4 ,predi: 7 ,mean: 6.709818363189697 ,var: 6.808448314666748\n"
     ]
    },
    {
     "ename": "KeyboardInterrupt",
     "evalue": "",
     "output_type": "error",
     "traceback": [
      "\u001b[0;31m---------------------------------------------------------------------------\u001b[0m",
      "\u001b[0;31mKeyboardInterrupt\u001b[0m                         Traceback (most recent call last)",
      "\u001b[0;32m<ipython-input-48-8e975a37a4d2>\u001b[0m in \u001b[0;36m<module>\u001b[0;34m\u001b[0m\n\u001b[1;32m      1\u001b[0m \u001b[0;32mfor\u001b[0m \u001b[0mi\u001b[0m \u001b[0;32min\u001b[0m \u001b[0mrange\u001b[0m\u001b[0;34m(\u001b[0m\u001b[0mlen\u001b[0m\u001b[0;34m(\u001b[0m\u001b[0mX_test\u001b[0m\u001b[0;34m)\u001b[0m\u001b[0;34m)\u001b[0m\u001b[0;34m:\u001b[0m\u001b[0;34m\u001b[0m\u001b[0;34m\u001b[0m\u001b[0m\n\u001b[1;32m      2\u001b[0m \u001b[0;34m\u001b[0m\u001b[0m\n\u001b[0;32m----> 3\u001b[0;31m     \u001b[0mp\u001b[0m\u001b[0;34m,\u001b[0m\u001b[0m_\u001b[0m\u001b[0;34m,\u001b[0m\u001b[0m__\u001b[0m\u001b[0;34m=\u001b[0m\u001b[0mmodel\u001b[0m\u001b[0;34m(\u001b[0m\u001b[0mX_train\u001b[0m\u001b[0;34m,\u001b[0m\u001b[0my_train\u001b[0m\u001b[0;34m,\u001b[0m\u001b[0mX_test\u001b[0m\u001b[0;34m[\u001b[0m\u001b[0mi\u001b[0m\u001b[0;34m]\u001b[0m\u001b[0;34m.\u001b[0m\u001b[0munsqueeze\u001b[0m\u001b[0;34m(\u001b[0m\u001b[0;36m0\u001b[0m\u001b[0;34m)\u001b[0m\u001b[0;34m)\u001b[0m\u001b[0;34m\u001b[0m\u001b[0;34m\u001b[0m\u001b[0m\n\u001b[0m\u001b[1;32m      4\u001b[0m     \u001b[0mpred\u001b[0m\u001b[0;34m=\u001b[0m\u001b[0mF\u001b[0m\u001b[0;34m.\u001b[0m\u001b[0msoftmax\u001b[0m\u001b[0;34m(\u001b[0m\u001b[0mp\u001b[0m\u001b[0;34m.\u001b[0m\u001b[0mlog_prob\u001b[0m\u001b[0;34m(\u001b[0m\u001b[0mtorch\u001b[0m\u001b[0;34m.\u001b[0m\u001b[0mtensor\u001b[0m\u001b[0;34m(\u001b[0m\u001b[0;34m[\u001b[0m\u001b[0;36m0\u001b[0m\u001b[0;34m,\u001b[0m\u001b[0;36m1\u001b[0m\u001b[0;34m,\u001b[0m\u001b[0;36m2\u001b[0m\u001b[0;34m,\u001b[0m\u001b[0;36m3\u001b[0m\u001b[0;34m,\u001b[0m\u001b[0;36m4\u001b[0m\u001b[0;34m,\u001b[0m\u001b[0;36m5\u001b[0m\u001b[0;34m,\u001b[0m\u001b[0;36m6\u001b[0m\u001b[0;34m,\u001b[0m\u001b[0;36m7\u001b[0m\u001b[0;34m,\u001b[0m\u001b[0;36m8\u001b[0m\u001b[0;34m,\u001b[0m\u001b[0;36m9\u001b[0m\u001b[0;34m]\u001b[0m\u001b[0;34m)\u001b[0m\u001b[0;34m.\u001b[0m\u001b[0mfloat\u001b[0m\u001b[0;34m(\u001b[0m\u001b[0;34m)\u001b[0m\u001b[0;34m)\u001b[0m\u001b[0;34m)\u001b[0m\u001b[0;34m.\u001b[0m\u001b[0margmax\u001b[0m\u001b[0;34m(\u001b[0m\u001b[0;34m)\u001b[0m\u001b[0;34m\u001b[0m\u001b[0;34m\u001b[0m\u001b[0m\n\u001b[1;32m      5\u001b[0m     \u001b[0;32mif\u001b[0m \u001b[0mpred\u001b[0m\u001b[0;34m!=\u001b[0m\u001b[0my_test\u001b[0m\u001b[0;34m[\u001b[0m\u001b[0mi\u001b[0m\u001b[0;34m]\u001b[0m\u001b[0;34m.\u001b[0m\u001b[0mlong\u001b[0m\u001b[0;34m(\u001b[0m\u001b[0;34m)\u001b[0m\u001b[0;34m:\u001b[0m\u001b[0;34m\u001b[0m\u001b[0;34m\u001b[0m\u001b[0m\n",
      "\u001b[0;32m~/anaconda3/lib/python3.7/site-packages/torch/nn/modules/module.py\u001b[0m in \u001b[0;36m__call__\u001b[0;34m(self, *input, **kwargs)\u001b[0m\n\u001b[1;32m    491\u001b[0m             \u001b[0mresult\u001b[0m \u001b[0;34m=\u001b[0m \u001b[0mself\u001b[0m\u001b[0;34m.\u001b[0m\u001b[0m_slow_forward\u001b[0m\u001b[0;34m(\u001b[0m\u001b[0;34m*\u001b[0m\u001b[0minput\u001b[0m\u001b[0;34m,\u001b[0m \u001b[0;34m**\u001b[0m\u001b[0mkwargs\u001b[0m\u001b[0;34m)\u001b[0m\u001b[0;34m\u001b[0m\u001b[0;34m\u001b[0m\u001b[0m\n\u001b[1;32m    492\u001b[0m         \u001b[0;32melse\u001b[0m\u001b[0;34m:\u001b[0m\u001b[0;34m\u001b[0m\u001b[0;34m\u001b[0m\u001b[0m\n\u001b[0;32m--> 493\u001b[0;31m             \u001b[0mresult\u001b[0m \u001b[0;34m=\u001b[0m \u001b[0mself\u001b[0m\u001b[0;34m.\u001b[0m\u001b[0mforward\u001b[0m\u001b[0;34m(\u001b[0m\u001b[0;34m*\u001b[0m\u001b[0minput\u001b[0m\u001b[0;34m,\u001b[0m \u001b[0;34m**\u001b[0m\u001b[0mkwargs\u001b[0m\u001b[0;34m)\u001b[0m\u001b[0;34m\u001b[0m\u001b[0;34m\u001b[0m\u001b[0m\n\u001b[0m\u001b[1;32m    494\u001b[0m         \u001b[0;32mfor\u001b[0m \u001b[0mhook\u001b[0m \u001b[0;32min\u001b[0m \u001b[0mself\u001b[0m\u001b[0;34m.\u001b[0m\u001b[0m_forward_hooks\u001b[0m\u001b[0;34m.\u001b[0m\u001b[0mvalues\u001b[0m\u001b[0;34m(\u001b[0m\u001b[0;34m)\u001b[0m\u001b[0;34m:\u001b[0m\u001b[0;34m\u001b[0m\u001b[0;34m\u001b[0m\u001b[0m\n\u001b[1;32m    495\u001b[0m             \u001b[0mhook_result\u001b[0m \u001b[0;34m=\u001b[0m \u001b[0mhook\u001b[0m\u001b[0;34m(\u001b[0m\u001b[0mself\u001b[0m\u001b[0;34m,\u001b[0m \u001b[0minput\u001b[0m\u001b[0;34m,\u001b[0m \u001b[0mresult\u001b[0m\u001b[0;34m)\u001b[0m\u001b[0;34m\u001b[0m\u001b[0;34m\u001b[0m\u001b[0m\n",
      "\u001b[0;32m<ipython-input-3-3e006dd83536>\u001b[0m in \u001b[0;36mforward\u001b[0;34m(self, x_context, y_context, x_all, y_all)\u001b[0m\n\u001b[1;32m     52\u001b[0m \u001b[0;34m\u001b[0m\u001b[0m\n\u001b[1;32m     53\u001b[0m         \u001b[0;31m#produire z\u001b[0m\u001b[0;34m\u001b[0m\u001b[0;34m\u001b[0m\u001b[0;34m\u001b[0m\u001b[0m\n\u001b[0;32m---> 54\u001b[0;31m         \u001b[0mz_context_mu\u001b[0m\u001b[0;34m,\u001b[0m\u001b[0mz_context_sigma\u001b[0m \u001b[0;34m=\u001b[0m \u001b[0mself\u001b[0m\u001b[0;34m.\u001b[0m\u001b[0mxy_to_z_params\u001b[0m\u001b[0;34m(\u001b[0m\u001b[0mx_context\u001b[0m\u001b[0;34m,\u001b[0m \u001b[0my_context\u001b[0m\u001b[0;34m)\u001b[0m  \u001b[0;31m# (mu, logvar) of z\u001b[0m\u001b[0;34m\u001b[0m\u001b[0;34m\u001b[0m\u001b[0m\n\u001b[0m\u001b[1;32m     55\u001b[0m         \u001b[0mq_context\u001b[0m \u001b[0;34m=\u001b[0m \u001b[0mNormal\u001b[0m\u001b[0;34m(\u001b[0m\u001b[0mz_context_mu\u001b[0m\u001b[0;34m,\u001b[0m \u001b[0mz_context_sigma\u001b[0m\u001b[0;34m)\u001b[0m\u001b[0;34m\u001b[0m\u001b[0;34m\u001b[0m\u001b[0m\n\u001b[1;32m     56\u001b[0m \u001b[0;34m\u001b[0m\u001b[0m\n",
      "\u001b[0;32m<ipython-input-3-3e006dd83536>\u001b[0m in \u001b[0;36mxy_to_z_params\u001b[0;34m(self, x, y)\u001b[0m\n\u001b[1;32m     42\u001b[0m     \u001b[0;32mdef\u001b[0m \u001b[0mxy_to_z_params\u001b[0m\u001b[0;34m(\u001b[0m\u001b[0mself\u001b[0m\u001b[0;34m,\u001b[0m \u001b[0mx\u001b[0m\u001b[0;34m,\u001b[0m \u001b[0my\u001b[0m\u001b[0;34m)\u001b[0m\u001b[0;34m:\u001b[0m\u001b[0;34m\u001b[0m\u001b[0;34m\u001b[0m\u001b[0m\n\u001b[1;32m     43\u001b[0m         \u001b[0mx_y\u001b[0m \u001b[0;34m=\u001b[0m \u001b[0mtorch\u001b[0m\u001b[0;34m.\u001b[0m\u001b[0mcat\u001b[0m\u001b[0;34m(\u001b[0m\u001b[0;34m[\u001b[0m\u001b[0mx\u001b[0m\u001b[0;34m,\u001b[0m \u001b[0my\u001b[0m\u001b[0;34m]\u001b[0m\u001b[0;34m,\u001b[0m \u001b[0mdim\u001b[0m\u001b[0;34m=\u001b[0m\u001b[0;36m1\u001b[0m\u001b[0;34m)\u001b[0m\u001b[0;34m\u001b[0m\u001b[0;34m\u001b[0m\u001b[0m\n\u001b[0;32m---> 44\u001b[0;31m         \u001b[0mr_i\u001b[0m \u001b[0;34m=\u001b[0m \u001b[0mself\u001b[0m\u001b[0;34m.\u001b[0m\u001b[0mh\u001b[0m\u001b[0;34m(\u001b[0m\u001b[0mx_y\u001b[0m\u001b[0;34m)\u001b[0m\u001b[0;34m\u001b[0m\u001b[0;34m\u001b[0m\u001b[0m\n\u001b[0m\u001b[1;32m     45\u001b[0m         \u001b[0mr\u001b[0m \u001b[0;34m=\u001b[0m \u001b[0mself\u001b[0m\u001b[0;34m.\u001b[0m\u001b[0maggregate\u001b[0m\u001b[0;34m(\u001b[0m\u001b[0mr_i\u001b[0m\u001b[0;34m)\u001b[0m\u001b[0;34m\u001b[0m\u001b[0;34m\u001b[0m\u001b[0m\n\u001b[1;32m     46\u001b[0m         \u001b[0mmu\u001b[0m \u001b[0;34m=\u001b[0m \u001b[0mself\u001b[0m\u001b[0;34m.\u001b[0m\u001b[0mr_to_z_mean\u001b[0m\u001b[0;34m(\u001b[0m\u001b[0mr\u001b[0m\u001b[0;34m)\u001b[0m\u001b[0;34m\u001b[0m\u001b[0;34m\u001b[0m\u001b[0m\n",
      "\u001b[0;32m<ipython-input-3-3e006dd83536>\u001b[0m in \u001b[0;36mh\u001b[0;34m(self, x_y)\u001b[0m\n\u001b[1;32m     21\u001b[0m \u001b[0;34m\u001b[0m\u001b[0m\n\u001b[1;32m     22\u001b[0m     \u001b[0;32mdef\u001b[0m \u001b[0mh\u001b[0m\u001b[0;34m(\u001b[0m\u001b[0mself\u001b[0m\u001b[0;34m,\u001b[0m \u001b[0mx_y\u001b[0m\u001b[0;34m)\u001b[0m\u001b[0;34m:\u001b[0m\u001b[0;34m\u001b[0m\u001b[0;34m\u001b[0m\u001b[0m\n\u001b[0;32m---> 23\u001b[0;31m         \u001b[0mx_y\u001b[0m \u001b[0;34m=\u001b[0m \u001b[0mF\u001b[0m\u001b[0;34m.\u001b[0m\u001b[0mrelu\u001b[0m\u001b[0;34m(\u001b[0m\u001b[0mself\u001b[0m\u001b[0;34m.\u001b[0m\u001b[0mh_1\u001b[0m\u001b[0;34m(\u001b[0m\u001b[0mx_y\u001b[0m\u001b[0;34m)\u001b[0m\u001b[0;34m)\u001b[0m\u001b[0;34m\u001b[0m\u001b[0;34m\u001b[0m\u001b[0m\n\u001b[0m\u001b[1;32m     24\u001b[0m         \u001b[0mx_y\u001b[0m \u001b[0;34m=\u001b[0m \u001b[0mF\u001b[0m\u001b[0;34m.\u001b[0m\u001b[0mrelu\u001b[0m\u001b[0;34m(\u001b[0m\u001b[0mself\u001b[0m\u001b[0;34m.\u001b[0m\u001b[0mh_2\u001b[0m\u001b[0;34m(\u001b[0m\u001b[0mx_y\u001b[0m\u001b[0;34m)\u001b[0m\u001b[0;34m)\u001b[0m\u001b[0;34m\u001b[0m\u001b[0;34m\u001b[0m\u001b[0m\n\u001b[1;32m     25\u001b[0m         \u001b[0mx_y\u001b[0m \u001b[0;34m=\u001b[0m \u001b[0mF\u001b[0m\u001b[0;34m.\u001b[0m\u001b[0mrelu\u001b[0m\u001b[0;34m(\u001b[0m\u001b[0mself\u001b[0m\u001b[0;34m.\u001b[0m\u001b[0mh_3\u001b[0m\u001b[0;34m(\u001b[0m\u001b[0mx_y\u001b[0m\u001b[0;34m)\u001b[0m\u001b[0;34m)\u001b[0m\u001b[0;34m\u001b[0m\u001b[0;34m\u001b[0m\u001b[0m\n",
      "\u001b[0;32m~/anaconda3/lib/python3.7/site-packages/torch/nn/modules/module.py\u001b[0m in \u001b[0;36m__call__\u001b[0;34m(self, *input, **kwargs)\u001b[0m\n\u001b[1;32m    491\u001b[0m             \u001b[0mresult\u001b[0m \u001b[0;34m=\u001b[0m \u001b[0mself\u001b[0m\u001b[0;34m.\u001b[0m\u001b[0m_slow_forward\u001b[0m\u001b[0;34m(\u001b[0m\u001b[0;34m*\u001b[0m\u001b[0minput\u001b[0m\u001b[0;34m,\u001b[0m \u001b[0;34m**\u001b[0m\u001b[0mkwargs\u001b[0m\u001b[0;34m)\u001b[0m\u001b[0;34m\u001b[0m\u001b[0;34m\u001b[0m\u001b[0m\n\u001b[1;32m    492\u001b[0m         \u001b[0;32melse\u001b[0m\u001b[0;34m:\u001b[0m\u001b[0;34m\u001b[0m\u001b[0;34m\u001b[0m\u001b[0m\n\u001b[0;32m--> 493\u001b[0;31m             \u001b[0mresult\u001b[0m \u001b[0;34m=\u001b[0m \u001b[0mself\u001b[0m\u001b[0;34m.\u001b[0m\u001b[0mforward\u001b[0m\u001b[0;34m(\u001b[0m\u001b[0;34m*\u001b[0m\u001b[0minput\u001b[0m\u001b[0;34m,\u001b[0m \u001b[0;34m**\u001b[0m\u001b[0mkwargs\u001b[0m\u001b[0;34m)\u001b[0m\u001b[0;34m\u001b[0m\u001b[0;34m\u001b[0m\u001b[0m\n\u001b[0m\u001b[1;32m    494\u001b[0m         \u001b[0;32mfor\u001b[0m \u001b[0mhook\u001b[0m \u001b[0;32min\u001b[0m \u001b[0mself\u001b[0m\u001b[0;34m.\u001b[0m\u001b[0m_forward_hooks\u001b[0m\u001b[0;34m.\u001b[0m\u001b[0mvalues\u001b[0m\u001b[0;34m(\u001b[0m\u001b[0;34m)\u001b[0m\u001b[0;34m:\u001b[0m\u001b[0;34m\u001b[0m\u001b[0;34m\u001b[0m\u001b[0m\n\u001b[1;32m    495\u001b[0m             \u001b[0mhook_result\u001b[0m \u001b[0;34m=\u001b[0m \u001b[0mhook\u001b[0m\u001b[0;34m(\u001b[0m\u001b[0mself\u001b[0m\u001b[0;34m,\u001b[0m \u001b[0minput\u001b[0m\u001b[0;34m,\u001b[0m \u001b[0mresult\u001b[0m\u001b[0;34m)\u001b[0m\u001b[0;34m\u001b[0m\u001b[0;34m\u001b[0m\u001b[0m\n",
      "\u001b[0;32m~/anaconda3/lib/python3.7/site-packages/torch/nn/modules/linear.py\u001b[0m in \u001b[0;36mforward\u001b[0;34m(self, input)\u001b[0m\n\u001b[1;32m     90\u001b[0m     \u001b[0;34m@\u001b[0m\u001b[0mweak_script_method\u001b[0m\u001b[0;34m\u001b[0m\u001b[0;34m\u001b[0m\u001b[0m\n\u001b[1;32m     91\u001b[0m     \u001b[0;32mdef\u001b[0m \u001b[0mforward\u001b[0m\u001b[0;34m(\u001b[0m\u001b[0mself\u001b[0m\u001b[0;34m,\u001b[0m \u001b[0minput\u001b[0m\u001b[0;34m)\u001b[0m\u001b[0;34m:\u001b[0m\u001b[0;34m\u001b[0m\u001b[0;34m\u001b[0m\u001b[0m\n\u001b[0;32m---> 92\u001b[0;31m         \u001b[0;32mreturn\u001b[0m \u001b[0mF\u001b[0m\u001b[0;34m.\u001b[0m\u001b[0mlinear\u001b[0m\u001b[0;34m(\u001b[0m\u001b[0minput\u001b[0m\u001b[0;34m,\u001b[0m \u001b[0mself\u001b[0m\u001b[0;34m.\u001b[0m\u001b[0mweight\u001b[0m\u001b[0;34m,\u001b[0m \u001b[0mself\u001b[0m\u001b[0;34m.\u001b[0m\u001b[0mbias\u001b[0m\u001b[0;34m)\u001b[0m\u001b[0;34m\u001b[0m\u001b[0;34m\u001b[0m\u001b[0m\n\u001b[0m\u001b[1;32m     93\u001b[0m \u001b[0;34m\u001b[0m\u001b[0m\n\u001b[1;32m     94\u001b[0m     \u001b[0;32mdef\u001b[0m \u001b[0mextra_repr\u001b[0m\u001b[0;34m(\u001b[0m\u001b[0mself\u001b[0m\u001b[0;34m)\u001b[0m\u001b[0;34m:\u001b[0m\u001b[0;34m\u001b[0m\u001b[0;34m\u001b[0m\u001b[0m\n",
      "\u001b[0;32m~/anaconda3/lib/python3.7/site-packages/torch/nn/functional.py\u001b[0m in \u001b[0;36mlinear\u001b[0;34m(input, weight, bias)\u001b[0m\n\u001b[1;32m   1404\u001b[0m     \u001b[0;32mif\u001b[0m \u001b[0minput\u001b[0m\u001b[0;34m.\u001b[0m\u001b[0mdim\u001b[0m\u001b[0;34m(\u001b[0m\u001b[0;34m)\u001b[0m \u001b[0;34m==\u001b[0m \u001b[0;36m2\u001b[0m \u001b[0;32mand\u001b[0m \u001b[0mbias\u001b[0m \u001b[0;32mis\u001b[0m \u001b[0;32mnot\u001b[0m \u001b[0;32mNone\u001b[0m\u001b[0;34m:\u001b[0m\u001b[0;34m\u001b[0m\u001b[0;34m\u001b[0m\u001b[0m\n\u001b[1;32m   1405\u001b[0m         \u001b[0;31m# fused op is marginally faster\u001b[0m\u001b[0;34m\u001b[0m\u001b[0;34m\u001b[0m\u001b[0;34m\u001b[0m\u001b[0m\n\u001b[0;32m-> 1406\u001b[0;31m         \u001b[0mret\u001b[0m \u001b[0;34m=\u001b[0m \u001b[0mtorch\u001b[0m\u001b[0;34m.\u001b[0m\u001b[0maddmm\u001b[0m\u001b[0;34m(\u001b[0m\u001b[0mbias\u001b[0m\u001b[0;34m,\u001b[0m \u001b[0minput\u001b[0m\u001b[0;34m,\u001b[0m \u001b[0mweight\u001b[0m\u001b[0;34m.\u001b[0m\u001b[0mt\u001b[0m\u001b[0;34m(\u001b[0m\u001b[0;34m)\u001b[0m\u001b[0;34m)\u001b[0m\u001b[0;34m\u001b[0m\u001b[0;34m\u001b[0m\u001b[0m\n\u001b[0m\u001b[1;32m   1407\u001b[0m     \u001b[0;32melse\u001b[0m\u001b[0;34m:\u001b[0m\u001b[0;34m\u001b[0m\u001b[0;34m\u001b[0m\u001b[0m\n\u001b[1;32m   1408\u001b[0m         \u001b[0moutput\u001b[0m \u001b[0;34m=\u001b[0m \u001b[0minput\u001b[0m\u001b[0;34m.\u001b[0m\u001b[0mmatmul\u001b[0m\u001b[0;34m(\u001b[0m\u001b[0mweight\u001b[0m\u001b[0;34m.\u001b[0m\u001b[0mt\u001b[0m\u001b[0;34m(\u001b[0m\u001b[0;34m)\u001b[0m\u001b[0;34m)\u001b[0m\u001b[0;34m\u001b[0m\u001b[0;34m\u001b[0m\u001b[0m\n",
      "\u001b[0;31mKeyboardInterrupt\u001b[0m: "
     ]
    }
   ],
   "source": [
    "for i in range(len(X_test)):\n",
    "    \n",
    "    p,_,__=model(X_train,y_train,X_test[i].unsqueeze(0))\n",
    "    pred=F.softmax(p.log_prob(torch.tensor([0,1,2,3,4,5,6,7,8,9]).float())).argmax()\n",
    "    if pred!=y_test[i].long():\n",
    "        print(i)\n",
    "        print(\"class:\",y_test[i].long().item(),\",predi:\",pred.item(),\",mean:\",p.mean.item(),\",var:\",p.variance.item())\n",
    "        "
   ]
  },
  {
   "cell_type": "code",
   "execution_count": 59,
   "metadata": {},
   "outputs": [
    {
     "name": "stderr",
     "output_type": "stream",
     "text": [
      "/home/h86479/anaconda3/lib/python3.7/site-packages/torch/nn/functional.py:1386: UserWarning: nn.functional.sigmoid is deprecated. Use torch.sigmoid instead.\n",
      "  warnings.warn(\"nn.functional.sigmoid is deprecated. Use torch.sigmoid instead.\")\n"
     ]
    },
    {
     "name": "stdout",
     "output_type": "stream",
     "text": [
      "tensor([[2.5126]], grad_fn=<MulBackward0>)\n",
      "tensor([[4.3929]], grad_fn=<PowBackward0>)\n"
     ]
    },
    {
     "data": {
      "image/png": "[encoded data removed]",
      "text/plain": [
       "<Figure size 1296x720 with 4 Axes>"
      ]
     },
     "metadata": {
      "needs_background": "light"
     },
     "output_type": "display_data"
    }
   ],
   "source": [
    "test_index=119\n",
    "p,_,__=model(X_train,y_train,X_test[test_index].unsqueeze(0))\n",
    "print(p.mean)\n",
    "print(p.variance)\n",
    "#Plot distribution and probability for false cases\n",
    "#plt.rc('text', usetex=True)\n",
    "#plt.rc('font', family='serif')\n",
    "plt.rcParams['figure.figsize'] = (18.0, 10.0)\n",
    "fig=plt.figure()\n",
    "fig.add_subplot(2, 2, 1)\n",
    "plt.imshow(X_test[test_index].squeeze().view(28,28).numpy())\n",
    "fig.add_subplot(2, 2, 2)\n",
    "plt.bar(np.arange(0,10),torch.exp(p.log_prob(torch.tensor([0,1,2,3,4,5,6,7,8,9]).float())).view(-1).detach().numpy(),width=0.1,label=\"probability\")\n",
    "plt.plot(np.arange(0,10,0.01),torch.exp(p.log_prob(torch.tensor(np.arange(0,10,0.01)).float())).view(-1).detach().numpy(),label=\"density\")\n",
    "plt.xlabel(\"class\")\n",
    "plt.ylabel(\"P\")\n",
    "plt.title(\"mu={:.3f}, sigma={:.3f}\".format(p.mean.item(),p.variance.item()))\n",
    "\n",
    "test_index=151\n",
    "p,_,__=model(X_train,y_train,X_test[test_index].unsqueeze(0))\n",
    "fig.add_subplot(2, 2, 3)\n",
    "plt.imshow(X_test[test_index].squeeze().view(28,28).numpy())\n",
    "fig.add_subplot(2, 2, 4)\n",
    "plt.bar(np.arange(0,10),torch.exp(p.log_prob(torch.tensor([0,1,2,3,4,5,6,7,8,9]).float())).view(-1).detach().numpy(),width=0.1,label=\"probability\")\n",
    "plt.plot(np.arange(0,10,0.01),torch.exp(p.log_prob(torch.tensor(np.arange(0,10,0.01)).float())).view(-1).detach().numpy(),label=\"density\")\n",
    "plt.xlabel(\"class\")\n",
    "plt.ylabel(\"P\")\n",
    "plt.title(\"mu={:.3f}, sigma={:.3f}\".format(p.mean.item(),p.variance.item()))\n",
    "plt.legend()\n",
    "plt.savefig(\"npc_res.pdf\")\n"
   ]
  },
  {
   "cell_type": "code",
   "execution_count": 95,
   "metadata": {},
   "outputs": [
    {
     "name": "stdout",
     "output_type": "stream",
     "text": [
      "tensor([[2.5377]], grad_fn=<MulBackward0>)\n",
      "tensor([[4.6945]], grad_fn=<PowBackward0>)\n"
     ]
    }
   ],
   "source": [
    "test_index=119\n",
    "p,_,__=model(X_train,y_train,X_test[test_index].unsqueeze(0))\n",
    "print(p.mean)\n",
    "print(p.variance)"
   ]
  },
  {
   "cell_type": "code",
   "execution_count": null,
   "metadata": {},
   "outputs": [],
   "source": []
  },
  {
   "cell_type": "code",
   "execution_count": null,
   "metadata": {},
   "outputs": [],
   "source": []
  }
 ],
 "metadata": {
  "kernelspec": {
   "display_name": "Python 3",
   "language": "python",
   "name": "python3"
  },
  "language_info": {
   "codemirror_mode": {
    "name": "ipython",
    "version": 3
   },
   "file_extension": ".py",
   "mimetype": "text/x-python",
   "name": "python",
   "nbconvert_exporter": "python",
   "pygments_lexer": "ipython3",
   "version": "3.7.3"
  }
 },
 "nbformat": 4,
 "nbformat_minor": 2
}
