{
 "cells": [
  {
   "cell_type": "code",
   "execution_count": 1,
   "metadata": {},
   "outputs": [],
   "source": [
    "import torch\n",
    "import torch.utils.data\n",
    "from torch import nn, optim\n",
    "from torch.nn import functional as F\n",
    "from torchvision import datasets, transforms\n",
    "from torchvision.utils import save_image\n",
    "import os\n",
    "import random"
   ]
  },
  {
   "cell_type": "code",
   "execution_count": 2,
   "metadata": {},
   "outputs": [],
   "source": [
    "batch_size=256\n",
    "epochs=300\n",
    "seed=1\n",
    "cuda=False and torch.cuda.is_available()\n",
    "log_interval=1\n",
    "r_dim=128\n",
    "z_dim=128\n"
   ]
  },
  {
   "cell_type": "code",
   "execution_count": 3,
   "metadata": {},
   "outputs": [],
   "source": [
    "\n",
    "torch.manual_seed(seed)\n",
    "random.seed(seed)\n",
    "device = torch.device(\"cpu\") #\"cuda\" if args.cuda else \n",
    "\n",
    "kwargs = {'num_workers': 1, 'pin_memory': True} if cuda else {}\n",
    "\n",
    "train_loader = torch.utils.data.DataLoader(\n",
    "    datasets.MNIST('../data', train=True, download=True,\n",
    "                   transform=transforms.ToTensor()),\n",
    "    batch_size=batch_size, shuffle=True, **kwargs)\n",
    "\n",
    "test_loader = torch.utils.data.DataLoader(\n",
    "    datasets.MNIST('../data', train=False, transform=transforms.ToTensor()),\n",
    "    batch_size=batch_size, shuffle=True, **kwargs)\n"
   ]
  },
  {
   "cell_type": "code",
   "execution_count": 4,
   "metadata": {},
   "outputs": [],
   "source": [
    "def get_context_idx(N):\n",
    "    # generate the indeces of the N context points in a flattened image\n",
    "    idx = random.sample(range(0, 784), N)\n",
    "    idx = torch.tensor(idx, device=device)\n",
    "    return idx"
   ]
  },
  {
   "cell_type": "code",
   "execution_count": 5,
   "metadata": {},
   "outputs": [],
   "source": [
    "def generate_grid(h, w):\n",
    "    rows = torch.linspace(0, 1, h, device=device)\n",
    "    cols = torch.linspace(0, 1, w, device=device)\n",
    "    grid = torch.stack([cols.repeat(h, 1).t().contiguous().view(-1), rows.repeat(w)], dim=1)\n",
    "    grid = grid.unsqueeze(0)\n",
    "    return grid"
   ]
  },
  {
   "cell_type": "code",
   "execution_count": 6,
   "metadata": {},
   "outputs": [],
   "source": [
    "def idx_to_y(idx, data):\n",
    "    # get the [0;1] pixel intensity at each index\n",
    "    y = torch.index_select(data, dim=1, index=idx)\n",
    "    return y\n"
   ]
  },
  {
   "cell_type": "code",
   "execution_count": 7,
   "metadata": {},
   "outputs": [],
   "source": [
    "def idx_to_x(idx, batch_size):\n",
    "    # From flat idx to 2d coordinates of the 28x28 grid. E.g. 35 -> (1, 7)\n",
    "    \n",
    "    x = torch.index_select(x_grid, dim=1, index=idx)\n",
    "    \n",
    "    x = x.expand(batch_size, -1, -1)\n",
    "    \n",
    "    return x"
   ]
  },
  {
   "cell_type": "code",
   "execution_count": 8,
   "metadata": {},
   "outputs": [],
   "source": [
    "class CNP(nn.Module):\n",
    "    def __init__(self, r_dim,z_dim):\n",
    "        super(CNP, self).__init__()\n",
    "        self.r_dim = r_dim\n",
    "        self.z_dim = z_dim\n",
    "        self.h_1 = nn.Linear(3, 256)\n",
    "        self.h_2 = nn.Linear(256, 256)\n",
    "        self.h_3 = nn.Linear(256, self.r_dim)\n",
    "\n",
    "        self.r_to_z_mean = nn.Linear(self.r_dim, self.z_dim)\n",
    "        self.r_to_z_logvar = nn.Linear(self.r_dim, self.z_dim)\n",
    "\n",
    "        self.g_1 = nn.Linear(self.z_dim + 2, 256)\n",
    "        self.g_2 = nn.Linear(256,256)\n",
    "        self.g_3 = nn.Linear(256,256)\n",
    "        self.g_mu = nn.Linear(256, 1)\n",
    "        self.g_sigma = nn.Linear(256, 1)\n",
    "\n",
    "    def h(self, x_y):\n",
    "        x_y = F.relu(self.h_1(x_y))\n",
    "        x_y = F.relu(self.h_2(x_y))\n",
    "        x_y = F.relu(self.h_3(x_y))\n",
    "        return x_y\n",
    "\n",
    "    def aggregate(self, r):\n",
    "        return torch.mean(r, dim=1)\n",
    "\n",
    "    def g(self, rep, x_target):\n",
    "        r_et_x = torch.cat([rep, x_target], dim=2)\n",
    "        input = F.relu(self.g_1(r_et_x))\n",
    "        input = F.relu(self.g_2(input))\n",
    "        input = F.relu(self.g_3(input))\n",
    "        mu=self.g_mu(input)\n",
    "        log_sigma=self.g_sigma(input)\n",
    "        return mu,log_sigma\n",
    "\n",
    "    def xy_to_r_params(self, x, y):\n",
    "        x_y = torch.cat([x, y], dim=2)\n",
    "        r_i = self.h(x_y)        \n",
    "        r = self.aggregate(r_i)\n",
    "        return r\n",
    "\n",
    "    def forward(self, x_context, y_context):\n",
    "        r_context = self.xy_to_r_params(x_context, y_context)  # (mu, logvar) of z\n",
    "        r_expand = r_context.unsqueeze(1).expand(-1, 784, -1)\n",
    "        # reconstruct the whole image including the provided context points\n",
    "        #x_target size:batch_size*784*2\n",
    "        x_target = x_grid.expand(y_context.shape[0], -1, -1)\n",
    "        \n",
    "        mu, log_sigma = self.g(r_expand, x_target)\n",
    "    \n",
    "        # Bound the variance\n",
    "        sigma = 0.1 + 0.9 * F.softplus(log_sigma)\n",
    "\n",
    "        return mu, sigma\n",
    "        "
   ]
  },
  {
   "cell_type": "code",
   "execution_count": 9,
   "metadata": {},
   "outputs": [],
   "source": [
    "def np_loss(mu,sigma, y):#, z_all, z_context\n",
    "\n",
    "    if y is not None:\n",
    "        log_p = -(y - mu)**2 / (2 * sigma**2) - torch.log(sigma)\n",
    "    else:\n",
    "        log_p = None\n",
    "    return log_p"
   ]
  },
  {
   "cell_type": "code",
   "execution_count": 10,
   "metadata": {},
   "outputs": [],
   "source": [
    "model = CNP(r_dim,z_dim).to(device)\n",
    "optimizer = optim.Adam(model.parameters(), lr=1e-4)\n",
    "x_grid = generate_grid(28, 28)\n",
    "os.makedirs(\"results_cnp/\", exist_ok=True)"
   ]
  },
  {
   "cell_type": "code",
   "execution_count": 11,
   "metadata": {},
   "outputs": [],
   "source": [
    "def train(epoch):\n",
    "    model.train()\n",
    "    train_loss = 0\n",
    "    for batch_idx, (y_all, _) in enumerate(train_loader):\n",
    "        \n",
    "        batch_size = y_all.shape[0]\n",
    "        \n",
    "        y_all = y_all.to(device).view(batch_size, -1, 1)\n",
    "        \n",
    "        N = random.randint(1, 784)  # number of context points\n",
    "        \n",
    "        context_idx = get_context_idx(N)\n",
    "        x_context = idx_to_x(context_idx, batch_size)\n",
    "        \n",
    "        y_context = idx_to_y(context_idx, y_all)\n",
    "        optimizer.zero_grad()\n",
    "        \n",
    "        mu,sigma= model(x_context, y_context)\n",
    "        \n",
    "        loss = -np_loss(mu,sigma, y_all).sum(dim=0).mean() #z_all, z_context\n",
    "        loss.backward()\n",
    "        train_loss += loss.item()\n",
    "        optimizer.step()\n",
    "        if batch_idx % log_interval == 0:\n",
    "            print('Train Epoch: {} [{}/{} ({:.0f}%)]\\tLoss: {:.6f}'.format(\n",
    "                epoch, batch_idx * len(y_all), len(train_loader.dataset),\n",
    "                       100. * batch_idx / len(train_loader),\n",
    "                       loss.item() / len(y_all)))\n",
    "    print('====> Epoch: {} Average loss: {:.4f}'.format(\n",
    "        epoch, train_loss / len(train_loader.dataset)))"
   ]
  },
  {
   "cell_type": "code",
   "execution_count": 12,
   "metadata": {},
   "outputs": [],
   "source": [
    "def test(epoch):\n",
    "    model.eval()\n",
    "    test_loss = 0\n",
    "    with torch.no_grad():\n",
    "        for i, (y_all, _) in enumerate(test_loader):\n",
    "            y_all = y_all.to(device).view(y_all.shape[0], -1, 1)\n",
    "            batch_size = y_all.shape[0]\n",
    "\n",
    "            N = 300\n",
    "            context_idx = get_context_idx(N)\n",
    "            x_context = idx_to_x(context_idx, batch_size)\n",
    "            y_context = idx_to_y(context_idx, y_all)\n",
    "\n",
    "            mu,sigma = model(x_context, y_context)\n",
    "            test_loss += -np_loss(mu,sigma, y_all).sum(dim=0).mean().item()\n",
    "\n",
    "            if i == 0:  # save PNG of reconstructed examples\n",
    "                plot_Ns = [10, 100, 300, 784]\n",
    "                num_examples = min(batch_size, 16)\n",
    "                for N in plot_Ns:\n",
    "                    recons = []\n",
    "                    recons1=[]\n",
    "                    context_idx = get_context_idx(N)\n",
    "                    x_context = idx_to_x(context_idx, batch_size)\n",
    "                    y_context = idx_to_y(context_idx, y_all)\n",
    "                    for d in range(1):#in range(5) originally\n",
    "                        mu,sigma= model(x_context, y_context)\n",
    "                        recons.append(mu[:num_examples])\n",
    "                        recons1.append(sigma[:num_examples])\n",
    "                    recons = torch.cat(recons).view(-1, 1, 28, 28).expand(-1, 3, -1, -1)\n",
    "                    recons1 = torch.cat(recons1).view(-1, 1, 28, 28).expand(-1, 3, -1, -1)\n",
    "                    background = torch.tensor([0., 0., 1.], device=device)\n",
    "                    background = background.view(1, -1, 1).expand(num_examples, 3, 784).contiguous()\n",
    "                    context_pixels = y_all[:num_examples].view(num_examples, 1, -1)[:, :, context_idx]\n",
    "                    context_pixels = context_pixels.expand(num_examples, 3, -1)\n",
    "                    background[:, :, context_idx] = context_pixels\n",
    "                    comparison = torch.cat([background.view(-1, 3, 28, 28),\n",
    "                                            recons,recons1])\n",
    "                    save_image(comparison.cpu(),\n",
    "                               'results_cnp/ep_' + str(epoch) +\n",
    "                               '_cps_' + str(N) + '.png', nrow=num_examples)\n",
    "\n",
    "    test_loss /= len(test_loader.dataset)\n",
    "    print('====> Test set loss: {:.4f}'.format(test_loss))"
   ]
  },
  {
   "cell_type": "code",
   "execution_count": 13,
   "metadata": {
    "scrolled": false
   },
   "outputs": [
    {
     "name": "stdout",
     "output_type": "stream",
     "text": [
      "Train Epoch: 1 [0/60000 (0%)]\tLoss: -0.256158\n",
      "Train Epoch: 1 [256/60000 (0%)]\tLoss: -0.260415\n",
      "Train Epoch: 1 [512/60000 (1%)]\tLoss: -0.260819\n",
      "Train Epoch: 1 [768/60000 (1%)]\tLoss: -0.262615\n",
      "Train Epoch: 1 [1024/60000 (2%)]\tLoss: -0.265586\n"
     ]
    },
    {
     "ename": "KeyboardInterrupt",
     "evalue": "",
     "output_type": "error",
     "traceback": [
      "\u001b[0;31m---------------------------------------------------------------------------\u001b[0m",
      "\u001b[0;31mKeyboardInterrupt\u001b[0m                         Traceback (most recent call last)",
      "\u001b[0;32m<ipython-input-13-887f29f54759>\u001b[0m in \u001b[0;36m<module>\u001b[0;34m\u001b[0m\n\u001b[1;32m      1\u001b[0m \u001b[0;32mfor\u001b[0m \u001b[0mepoch\u001b[0m \u001b[0;32min\u001b[0m \u001b[0mrange\u001b[0m\u001b[0;34m(\u001b[0m\u001b[0;36m1\u001b[0m\u001b[0;34m,\u001b[0m \u001b[0mepochs\u001b[0m \u001b[0;34m+\u001b[0m \u001b[0;36m1\u001b[0m\u001b[0;34m)\u001b[0m\u001b[0;34m:\u001b[0m\u001b[0;34m\u001b[0m\u001b[0;34m\u001b[0m\u001b[0m\n\u001b[0;32m----> 2\u001b[0;31m     \u001b[0mtrain\u001b[0m\u001b[0;34m(\u001b[0m\u001b[0mepoch\u001b[0m\u001b[0;34m)\u001b[0m\u001b[0;34m\u001b[0m\u001b[0;34m\u001b[0m\u001b[0m\n\u001b[0m\u001b[1;32m      3\u001b[0m     \u001b[0mtest\u001b[0m\u001b[0;34m(\u001b[0m\u001b[0mepoch\u001b[0m\u001b[0;34m)\u001b[0m\u001b[0;34m\u001b[0m\u001b[0;34m\u001b[0m\u001b[0m\n",
      "\u001b[0;32m<ipython-input-11-bfcd3c63176d>\u001b[0m in \u001b[0;36mtrain\u001b[0;34m(epoch)\u001b[0m\n\u001b[1;32m     19\u001b[0m \u001b[0;34m\u001b[0m\u001b[0m\n\u001b[1;32m     20\u001b[0m         \u001b[0mloss\u001b[0m \u001b[0;34m=\u001b[0m \u001b[0;34m-\u001b[0m\u001b[0mnp_loss\u001b[0m\u001b[0;34m(\u001b[0m\u001b[0mmu\u001b[0m\u001b[0;34m,\u001b[0m\u001b[0msigma\u001b[0m\u001b[0;34m,\u001b[0m \u001b[0my_all\u001b[0m\u001b[0;34m)\u001b[0m\u001b[0;34m.\u001b[0m\u001b[0msum\u001b[0m\u001b[0;34m(\u001b[0m\u001b[0mdim\u001b[0m\u001b[0;34m=\u001b[0m\u001b[0;36m0\u001b[0m\u001b[0;34m)\u001b[0m\u001b[0;34m.\u001b[0m\u001b[0mmean\u001b[0m\u001b[0;34m(\u001b[0m\u001b[0;34m)\u001b[0m \u001b[0;31m#z_all, z_context\u001b[0m\u001b[0;34m\u001b[0m\u001b[0;34m\u001b[0m\u001b[0m\n\u001b[0;32m---> 21\u001b[0;31m         \u001b[0mloss\u001b[0m\u001b[0;34m.\u001b[0m\u001b[0mbackward\u001b[0m\u001b[0;34m(\u001b[0m\u001b[0;34m)\u001b[0m\u001b[0;34m\u001b[0m\u001b[0;34m\u001b[0m\u001b[0m\n\u001b[0m\u001b[1;32m     22\u001b[0m         \u001b[0mtrain_loss\u001b[0m \u001b[0;34m+=\u001b[0m \u001b[0mloss\u001b[0m\u001b[0;34m.\u001b[0m\u001b[0mitem\u001b[0m\u001b[0;34m(\u001b[0m\u001b[0;34m)\u001b[0m\u001b[0;34m\u001b[0m\u001b[0;34m\u001b[0m\u001b[0m\n\u001b[1;32m     23\u001b[0m         \u001b[0moptimizer\u001b[0m\u001b[0;34m.\u001b[0m\u001b[0mstep\u001b[0m\u001b[0;34m(\u001b[0m\u001b[0;34m)\u001b[0m\u001b[0;34m\u001b[0m\u001b[0;34m\u001b[0m\u001b[0m\n",
      "\u001b[0;32m~/anaconda3/lib/python3.7/site-packages/torch/tensor.py\u001b[0m in \u001b[0;36mbackward\u001b[0;34m(self, gradient, retain_graph, create_graph)\u001b[0m\n\u001b[1;32m    105\u001b[0m                 \u001b[0mproducts\u001b[0m\u001b[0;34m.\u001b[0m \u001b[0mDefaults\u001b[0m \u001b[0mto\u001b[0m\u001b[0;31m \u001b[0m\u001b[0;31m`\u001b[0m\u001b[0;31m`\u001b[0m\u001b[0;32mFalse\u001b[0m\u001b[0;31m`\u001b[0m\u001b[0;31m`\u001b[0m\u001b[0;34m.\u001b[0m\u001b[0;34m\u001b[0m\u001b[0;34m\u001b[0m\u001b[0m\n\u001b[1;32m    106\u001b[0m         \"\"\"\n\u001b[0;32m--> 107\u001b[0;31m         \u001b[0mtorch\u001b[0m\u001b[0;34m.\u001b[0m\u001b[0mautograd\u001b[0m\u001b[0;34m.\u001b[0m\u001b[0mbackward\u001b[0m\u001b[0;34m(\u001b[0m\u001b[0mself\u001b[0m\u001b[0;34m,\u001b[0m \u001b[0mgradient\u001b[0m\u001b[0;34m,\u001b[0m \u001b[0mretain_graph\u001b[0m\u001b[0;34m,\u001b[0m \u001b[0mcreate_graph\u001b[0m\u001b[0;34m)\u001b[0m\u001b[0;34m\u001b[0m\u001b[0;34m\u001b[0m\u001b[0m\n\u001b[0m\u001b[1;32m    108\u001b[0m \u001b[0;34m\u001b[0m\u001b[0m\n\u001b[1;32m    109\u001b[0m     \u001b[0;32mdef\u001b[0m \u001b[0mregister_hook\u001b[0m\u001b[0;34m(\u001b[0m\u001b[0mself\u001b[0m\u001b[0;34m,\u001b[0m \u001b[0mhook\u001b[0m\u001b[0;34m)\u001b[0m\u001b[0;34m:\u001b[0m\u001b[0;34m\u001b[0m\u001b[0;34m\u001b[0m\u001b[0m\n",
      "\u001b[0;32m~/anaconda3/lib/python3.7/site-packages/torch/autograd/__init__.py\u001b[0m in \u001b[0;36mbackward\u001b[0;34m(tensors, grad_tensors, retain_graph, create_graph, grad_variables)\u001b[0m\n\u001b[1;32m     91\u001b[0m     Variable._execution_engine.run_backward(\n\u001b[1;32m     92\u001b[0m         \u001b[0mtensors\u001b[0m\u001b[0;34m,\u001b[0m \u001b[0mgrad_tensors\u001b[0m\u001b[0;34m,\u001b[0m \u001b[0mretain_graph\u001b[0m\u001b[0;34m,\u001b[0m \u001b[0mcreate_graph\u001b[0m\u001b[0;34m,\u001b[0m\u001b[0;34m\u001b[0m\u001b[0;34m\u001b[0m\u001b[0m\n\u001b[0;32m---> 93\u001b[0;31m         allow_unreachable=True)  # allow_unreachable flag\n\u001b[0m\u001b[1;32m     94\u001b[0m \u001b[0;34m\u001b[0m\u001b[0m\n\u001b[1;32m     95\u001b[0m \u001b[0;34m\u001b[0m\u001b[0m\n",
      "\u001b[0;31mKeyboardInterrupt\u001b[0m: "
     ]
    }
   ],
   "source": [
    "for epoch in range(1, epochs + 1):\n",
    "    train(epoch)\n",
    "    test(epoch)"
   ]
  },
  {
   "cell_type": "code",
   "execution_count": null,
   "metadata": {},
   "outputs": [],
   "source": [
    "optimizer = optim.Adam(model.parameters(), lr=1e-6)"
   ]
  },
  {
   "cell_type": "code",
   "execution_count": null,
   "metadata": {},
   "outputs": [],
   "source": [
    "# Print model's state_dict\n",
    "print(\"Model's state_dict:\")\n",
    "for param_tensor in model.state_dict():\n",
    "    print(param_tensor, \"\\t\", model.state_dict()[param_tensor].size())\n",
    "\n",
    "# Print optimizer's state_dict\n",
    "print(\"Optimizer's state_dict:\")\n",
    "for var_name in optimizer.state_dict():\n",
    "    print(var_name, \"\\t\", optimizer.state_dict()[var_name])"
   ]
  },
  {
   "cell_type": "code",
   "execution_count": null,
   "metadata": {},
   "outputs": [],
   "source": [
    "#save the model\n",
    "save_path=\"./results_cnp/model_param.pt\"\n",
    "torch.save(model.state_dict(), save_path)\n"
   ]
  },
  {
   "cell_type": "code",
   "execution_count": null,
   "metadata": {},
   "outputs": [],
   "source": []
  }
 ],
 "metadata": {
  "kernelspec": {
   "display_name": "Python 3",
   "language": "python",
   "name": "python3"
  },
  "language_info": {
   "codemirror_mode": {
    "name": "ipython",
    "version": 3
   },
   "file_extension": ".py",
   "mimetype": "text/x-python",
   "name": "python",
   "nbconvert_exporter": "python",
   "pygments_lexer": "ipython3",
   "version": "3.7.3"
  }
 },
 "nbformat": 4,
 "nbformat_minor": 2
}
